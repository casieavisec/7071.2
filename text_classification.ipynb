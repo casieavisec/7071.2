{
 "cells": [
  {
   "cell_type": "markdown",
   "id": "0ee695bb",
   "metadata": {},
   "source": [
    "# Text Classifier Application using Machine Learning"
   ]
  },
  {
   "cell_type": "markdown",
   "id": "0236c2df",
   "metadata": {},
   "source": [
    "In this notebook, the goal is to build a system such that the user enters some text (for example, a sentence) and the systems outputs either “Sport”, “Science”, or “Business” (whichever more appropriate) as the class of the input text."
   ]
  },
  {
   "cell_type": "markdown",
   "id": "915135ff",
   "metadata": {},
   "source": [
    "The dataset is available on kaggle.com.<br>\n",
    "<a href= 'https://www.kaggle.com/datasets/amananandrai/ag-news-classification-dataset?resource=download'> dataset link</a>"
   ]
  },
  {
   "cell_type": "markdown",
   "id": "b2471c68",
   "metadata": {},
   "source": [
    "It has two files; <i>train.csv</i> and <i>test.csv.</i><br>\n",
    "In this notebook we use <i>train.csv</i> as the data to train and test the model.<br><br>\n",
    "At the end, we will use the <i>test.csv</i> as unseen data to see the accuracy of the model."
   ]
  },
  {
   "cell_type": "markdown",
   "id": "3d9e3cde",
   "metadata": {},
   "source": [
    "<i>Please note that I have only created a Multinomial Naive Bayes model as this algorithm is suitable for text classification problem in Natural Language Processing.</i>"
   ]
  },
  {
   "cell_type": "markdown",
   "id": "78e549f7",
   "metadata": {},
   "source": [
    "### Import Required Libraries"
   ]
  },
  {
   "cell_type": "code",
   "execution_count": 1,
   "id": "af248d1f",
   "metadata": {},
   "outputs": [],
   "source": [
    "# Data processing and EDA\n",
    "import pandas as pd\n",
    "import matplotlib.pyplot as plt\n",
    "import seaborn as sns\n",
    "\n",
    "# Data preprocessing\n",
    "import re\n",
    "import nltk\n",
    "# nltk.download(\"stopwords\")\n",
    "from nltk.corpus import stopwords\n",
    "from nltk.stem import WordNetLemmatizer\n",
    "\n",
    "# Model validation\n",
    "from sklearn.model_selection import train_test_split\n",
    "\n",
    "# Model Evaluation\n",
    "from sklearn.metrics import accuracy_score\n",
    "from sklearn.metrics import ConfusionMatrixDisplay\n",
    "\n",
    "# Vectorizer\n",
    "from sklearn.feature_extraction.text import TfidfVectorizer\n",
    "\n",
    "# Modelling\n",
    "from sklearn.naive_bayes import MultinomialNB\n",
    "\n",
    "# To filter Warnings\n",
    "import warnings\n",
    "warnings.filterwarnings('ignore')"
   ]
  },
  {
   "cell_type": "markdown",
   "id": "e285b6ec",
   "metadata": {},
   "source": [
    "# 1. Data"
   ]
  },
  {
   "cell_type": "markdown",
   "id": "b1655f70",
   "metadata": {},
   "source": [
    "Read the data."
   ]
  },
  {
   "cell_type": "code",
   "execution_count": 2,
   "id": "e3c6a7f4",
   "metadata": {},
   "outputs": [],
   "source": [
    "data = pd.read_csv(\"AG_News_Archive/train.csv\")"
   ]
  },
  {
   "cell_type": "markdown",
   "id": "b066a37f",
   "metadata": {},
   "source": [
    "Check the total number of rows and columns."
   ]
  },
  {
   "cell_type": "code",
   "execution_count": 3,
   "id": "24e9d85e",
   "metadata": {
    "scrolled": true
   },
   "outputs": [
    {
     "data": {
      "text/plain": [
       "(120000, 3)"
      ]
     },
     "execution_count": 3,
     "metadata": {},
     "output_type": "execute_result"
    }
   ],
   "source": [
    "data.shape"
   ]
  },
  {
   "cell_type": "markdown",
   "id": "99ddd46a",
   "metadata": {},
   "source": [
    "There are 120,000 records and 3 columns."
   ]
  },
  {
   "cell_type": "markdown",
   "id": "7873218e",
   "metadata": {},
   "source": [
    "Check the data head."
   ]
  },
  {
   "cell_type": "code",
   "execution_count": 4,
   "id": "5f6ca538",
   "metadata": {},
   "outputs": [
    {
     "data": {
      "text/html": [
       "<div>\n",
       "<style scoped>\n",
       "    .dataframe tbody tr th:only-of-type {\n",
       "        vertical-align: middle;\n",
       "    }\n",
       "\n",
       "    .dataframe tbody tr th {\n",
       "        vertical-align: top;\n",
       "    }\n",
       "\n",
       "    .dataframe thead th {\n",
       "        text-align: right;\n",
       "    }\n",
       "</style>\n",
       "<table border=\"1\" class=\"dataframe\">\n",
       "  <thead>\n",
       "    <tr style=\"text-align: right;\">\n",
       "      <th></th>\n",
       "      <th>Class Index</th>\n",
       "      <th>Title</th>\n",
       "      <th>Description</th>\n",
       "    </tr>\n",
       "  </thead>\n",
       "  <tbody>\n",
       "    <tr>\n",
       "      <th>0</th>\n",
       "      <td>3</td>\n",
       "      <td>Wall St. Bears Claw Back Into the Black (Reuters)</td>\n",
       "      <td>Reuters - Short-sellers, Wall Street's dwindli...</td>\n",
       "    </tr>\n",
       "    <tr>\n",
       "      <th>1</th>\n",
       "      <td>3</td>\n",
       "      <td>Carlyle Looks Toward Commercial Aerospace (Reu...</td>\n",
       "      <td>Reuters - Private investment firm Carlyle Grou...</td>\n",
       "    </tr>\n",
       "    <tr>\n",
       "      <th>2</th>\n",
       "      <td>3</td>\n",
       "      <td>Oil and Economy Cloud Stocks' Outlook (Reuters)</td>\n",
       "      <td>Reuters - Soaring crude prices plus worries\\ab...</td>\n",
       "    </tr>\n",
       "    <tr>\n",
       "      <th>3</th>\n",
       "      <td>3</td>\n",
       "      <td>Iraq Halts Oil Exports from Main Southern Pipe...</td>\n",
       "      <td>Reuters - Authorities have halted oil export\\f...</td>\n",
       "    </tr>\n",
       "    <tr>\n",
       "      <th>4</th>\n",
       "      <td>3</td>\n",
       "      <td>Oil prices soar to all-time record, posing new...</td>\n",
       "      <td>AFP - Tearaway world oil prices, toppling reco...</td>\n",
       "    </tr>\n",
       "  </tbody>\n",
       "</table>\n",
       "</div>"
      ],
      "text/plain": [
       "   Class Index                                              Title  \\\n",
       "0            3  Wall St. Bears Claw Back Into the Black (Reuters)   \n",
       "1            3  Carlyle Looks Toward Commercial Aerospace (Reu...   \n",
       "2            3    Oil and Economy Cloud Stocks' Outlook (Reuters)   \n",
       "3            3  Iraq Halts Oil Exports from Main Southern Pipe...   \n",
       "4            3  Oil prices soar to all-time record, posing new...   \n",
       "\n",
       "                                         Description  \n",
       "0  Reuters - Short-sellers, Wall Street's dwindli...  \n",
       "1  Reuters - Private investment firm Carlyle Grou...  \n",
       "2  Reuters - Soaring crude prices plus worries\\ab...  \n",
       "3  Reuters - Authorities have halted oil export\\f...  \n",
       "4  AFP - Tearaway world oil prices, toppling reco...  "
      ]
     },
     "execution_count": 4,
     "metadata": {},
     "output_type": "execute_result"
    }
   ],
   "source": [
    "data.head()"
   ]
  },
  {
   "cell_type": "markdown",
   "id": "9f11cd71",
   "metadata": {},
   "source": [
    "Check data info."
   ]
  },
  {
   "cell_type": "code",
   "execution_count": 5,
   "id": "f48452e7",
   "metadata": {},
   "outputs": [
    {
     "name": "stdout",
     "output_type": "stream",
     "text": [
      "<class 'pandas.core.frame.DataFrame'>\n",
      "RangeIndex: 120000 entries, 0 to 119999\n",
      "Data columns (total 3 columns):\n",
      " #   Column       Non-Null Count   Dtype \n",
      "---  ------       --------------   ----- \n",
      " 0   Class Index  120000 non-null  int64 \n",
      " 1   Title        120000 non-null  object\n",
      " 2   Description  120000 non-null  object\n",
      "dtypes: int64(1), object(2)\n",
      "memory usage: 2.7+ MB\n"
     ]
    }
   ],
   "source": [
    "data.info()"
   ]
  },
  {
   "cell_type": "markdown",
   "id": "d1905a04",
   "metadata": {},
   "source": [
    "There is no missing value."
   ]
  },
  {
   "cell_type": "markdown",
   "id": "641c3096",
   "metadata": {},
   "source": [
    "Check the unique labels for 'Class Index' column and its counts."
   ]
  },
  {
   "cell_type": "code",
   "execution_count": 6,
   "id": "0c885bec",
   "metadata": {
    "scrolled": true
   },
   "outputs": [
    {
     "data": {
      "text/plain": [
       "array([3, 4, 2, 1])"
      ]
     },
     "execution_count": 6,
     "metadata": {},
     "output_type": "execute_result"
    }
   ],
   "source": [
    "data['Class Index'].unique()"
   ]
  },
  {
   "cell_type": "code",
   "execution_count": 7,
   "id": "b28a28c6",
   "metadata": {},
   "outputs": [
    {
     "data": {
      "text/plain": [
       "3    30000\n",
       "4    30000\n",
       "2    30000\n",
       "1    30000\n",
       "Name: Class Index, dtype: int64"
      ]
     },
     "execution_count": 7,
     "metadata": {},
     "output_type": "execute_result"
    }
   ],
   "source": [
    "data['Class Index'].value_counts()"
   ]
  },
  {
   "cell_type": "markdown",
   "id": "1821f58f",
   "metadata": {},
   "source": [
    "According to the dataset provider, the 'Class Index' consists of class ids 1-4 where,<br><br>\n",
    "1 - World,<br>2 - Sports, <br>3 - Business, <br>4 - Sci/Tech"
   ]
  },
  {
   "cell_type": "markdown",
   "id": "570f42d3",
   "metadata": {},
   "source": [
    "# 2. Data Pre-processing"
   ]
  },
  {
   "cell_type": "markdown",
   "id": "ed519467",
   "metadata": {},
   "source": [
    "In this notebook, we going to predict whether a given input is \"Sports, Science or Business\" text.<br>\n",
    "Therefore, we only select the records of our interest (i.e. removing \"World\" labelled records)."
   ]
  },
  {
   "cell_type": "code",
   "execution_count": 8,
   "id": "ce65b24b",
   "metadata": {},
   "outputs": [],
   "source": [
    "data = data[data['Class Index'] != 1]"
   ]
  },
  {
   "cell_type": "markdown",
   "id": "e884a052",
   "metadata": {},
   "source": [
    "Check the labels."
   ]
  },
  {
   "cell_type": "code",
   "execution_count": 9,
   "id": "65941d17",
   "metadata": {},
   "outputs": [
    {
     "data": {
      "text/plain": [
       "array([3, 4, 2])"
      ]
     },
     "execution_count": 9,
     "metadata": {},
     "output_type": "execute_result"
    }
   ],
   "source": [
    "data['Class Index'].unique()"
   ]
  },
  {
   "cell_type": "markdown",
   "id": "812bfde1",
   "metadata": {},
   "source": [
    "Now, let's encode the labels as the following:<br><br>\n",
    "Sports: 0, <br>\n",
    "Science: 1, <br>\n",
    "Business: 2<br>"
   ]
  },
  {
   "cell_type": "markdown",
   "id": "c4a07f93",
   "metadata": {},
   "source": [
    "Consists of class ids 1-4 where 1-World, 2-Sports, 3-Business, 4-Sci/Tech"
   ]
  },
  {
   "cell_type": "code",
   "execution_count": 10,
   "id": "83b2c566",
   "metadata": {},
   "outputs": [],
   "source": [
    "# creating an encoder function\n",
    "def encode(label):\n",
    "    if label == 2:\n",
    "        return 0\n",
    "    elif label == 3:\n",
    "        return 2\n",
    "    else:\n",
    "        return 1"
   ]
  },
  {
   "cell_type": "code",
   "execution_count": 11,
   "id": "f2820f93",
   "metadata": {},
   "outputs": [],
   "source": [
    "data['Class Index'] = data['Class Index'].apply(encode)"
   ]
  },
  {
   "cell_type": "markdown",
   "id": "2609c9cd",
   "metadata": {},
   "source": [
    "Check the labels."
   ]
  },
  {
   "cell_type": "code",
   "execution_count": 12,
   "id": "0e2ea3e7",
   "metadata": {},
   "outputs": [
    {
     "data": {
      "text/plain": [
       "array([2, 1, 0])"
      ]
     },
     "execution_count": 12,
     "metadata": {},
     "output_type": "execute_result"
    }
   ],
   "source": [
    "data['Class Index'].unique()"
   ]
  },
  {
   "cell_type": "markdown",
   "id": "507fb3aa",
   "metadata": {},
   "source": [
    "Now, let us make the data clean by creating columns 'text' and 'target' only."
   ]
  },
  {
   "cell_type": "code",
   "execution_count": 13,
   "id": "1a2d7cc9",
   "metadata": {},
   "outputs": [],
   "source": [
    "# combine 'Title' and 'Description'\n",
    "data['text'] = data['Title']+ ' ' + data['Description']"
   ]
  },
  {
   "cell_type": "code",
   "execution_count": 14,
   "id": "b8107b23",
   "metadata": {},
   "outputs": [],
   "source": [
    "# create a new column 'target' from 'Class Index'\n",
    "data['target'] = data['Class Index']"
   ]
  },
  {
   "cell_type": "code",
   "execution_count": 15,
   "id": "ad59dbb1",
   "metadata": {},
   "outputs": [],
   "source": [
    "# remove the columns 'Class Index', 'Title', and 'Description'\n",
    "data = data.drop(columns = ['Class Index', 'Title', 'Description'])"
   ]
  },
  {
   "cell_type": "code",
   "execution_count": 16,
   "id": "ec3947f7",
   "metadata": {},
   "outputs": [
    {
     "name": "stdout",
     "output_type": "stream",
     "text": [
      "<class 'pandas.core.frame.DataFrame'>\n",
      "Int64Index: 90000 entries, 0 to 119999\n",
      "Data columns (total 2 columns):\n",
      " #   Column  Non-Null Count  Dtype \n",
      "---  ------  --------------  ----- \n",
      " 0   text    90000 non-null  object\n",
      " 1   target  90000 non-null  int64 \n",
      "dtypes: int64(1), object(1)\n",
      "memory usage: 2.1+ MB\n"
     ]
    }
   ],
   "source": [
    "data.info()"
   ]
  },
  {
   "cell_type": "markdown",
   "id": "df153b63",
   "metadata": {},
   "source": [
    "Check the data."
   ]
  },
  {
   "cell_type": "code",
   "execution_count": 17,
   "id": "d9343607",
   "metadata": {},
   "outputs": [
    {
     "data": {
      "text/html": [
       "<div>\n",
       "<style scoped>\n",
       "    .dataframe tbody tr th:only-of-type {\n",
       "        vertical-align: middle;\n",
       "    }\n",
       "\n",
       "    .dataframe tbody tr th {\n",
       "        vertical-align: top;\n",
       "    }\n",
       "\n",
       "    .dataframe thead th {\n",
       "        text-align: right;\n",
       "    }\n",
       "</style>\n",
       "<table border=\"1\" class=\"dataframe\">\n",
       "  <thead>\n",
       "    <tr style=\"text-align: right;\">\n",
       "      <th></th>\n",
       "      <th>text</th>\n",
       "      <th>target</th>\n",
       "    </tr>\n",
       "  </thead>\n",
       "  <tbody>\n",
       "    <tr>\n",
       "      <th>0</th>\n",
       "      <td>Wall St. Bears Claw Back Into the Black (Reute...</td>\n",
       "      <td>2</td>\n",
       "    </tr>\n",
       "    <tr>\n",
       "      <th>1</th>\n",
       "      <td>Carlyle Looks Toward Commercial Aerospace (Reu...</td>\n",
       "      <td>2</td>\n",
       "    </tr>\n",
       "    <tr>\n",
       "      <th>2</th>\n",
       "      <td>Oil and Economy Cloud Stocks' Outlook (Reuters...</td>\n",
       "      <td>2</td>\n",
       "    </tr>\n",
       "    <tr>\n",
       "      <th>3</th>\n",
       "      <td>Iraq Halts Oil Exports from Main Southern Pipe...</td>\n",
       "      <td>2</td>\n",
       "    </tr>\n",
       "    <tr>\n",
       "      <th>4</th>\n",
       "      <td>Oil prices soar to all-time record, posing new...</td>\n",
       "      <td>2</td>\n",
       "    </tr>\n",
       "  </tbody>\n",
       "</table>\n",
       "</div>"
      ],
      "text/plain": [
       "                                                text  target\n",
       "0  Wall St. Bears Claw Back Into the Black (Reute...       2\n",
       "1  Carlyle Looks Toward Commercial Aerospace (Reu...       2\n",
       "2  Oil and Economy Cloud Stocks' Outlook (Reuters...       2\n",
       "3  Iraq Halts Oil Exports from Main Southern Pipe...       2\n",
       "4  Oil prices soar to all-time record, posing new...       2"
      ]
     },
     "execution_count": 17,
     "metadata": {},
     "output_type": "execute_result"
    }
   ],
   "source": [
    "data.head()"
   ]
  },
  {
   "cell_type": "code",
   "execution_count": 18,
   "id": "0e392c33",
   "metadata": {},
   "outputs": [
    {
     "data": {
      "text/plain": [
       "2    30000\n",
       "1    30000\n",
       "0    30000\n",
       "Name: target, dtype: int64"
      ]
     },
     "execution_count": 18,
     "metadata": {},
     "output_type": "execute_result"
    }
   ],
   "source": [
    "data.target.value_counts()"
   ]
  },
  {
   "cell_type": "code",
   "execution_count": 19,
   "id": "849df046",
   "metadata": {
    "scrolled": false
   },
   "outputs": [
    {
     "data": {
      "text/plain": [
       "<AxesSubplot:xlabel='target', ylabel='count'>"
      ]
     },
     "execution_count": 19,
     "metadata": {},
     "output_type": "execute_result"
    },
    {
     "data": {
      "image/png": "[encoded data removed]",
      "text/plain": [
       "<Figure size 640x480 with 1 Axes>"
      ]
     },
     "metadata": {},
     "output_type": "display_data"
    }
   ],
   "source": [
    "sns.countplot(\"target\", data=data)"
   ]
  },
  {
   "cell_type": "markdown",
   "id": "3ae95937",
   "metadata": {},
   "source": [
    "The data looks good now, and the target variable has balanced class."
   ]
  },
  {
   "cell_type": "markdown",
   "id": "fa9df7f2",
   "metadata": {},
   "source": [
    "For the text preprocessing, I have created a function which removes special characters, stop words and lemmatize the words."
   ]
  },
  {
   "cell_type": "code",
   "execution_count": 20,
   "id": "28563de7",
   "metadata": {},
   "outputs": [],
   "source": [
    "def preprocessText(text):\n",
    "    # lowercase\n",
    "    text = text.lower()\n",
    "    \n",
    "    # remove special characters, punctuations and numbers\n",
    "    text = re.sub(r\"[^a-zA-Z\\s]\", \"\", text)\n",
    "\n",
    "    # tokenize into words\n",
    "    words = text.split()\n",
    "\n",
    "    # remove stop words\n",
    "    sw = stopwords.words('english')\n",
    "    words = [word for word in words if word not in sw]\n",
    "    \n",
    "    # lemmatizer\n",
    "    lemmatizer = WordNetLemmatizer()\n",
    "    words = [(lemmatizer.lemmatize(word)) for word in words]\n",
    "\n",
    "    # join the processed words back into a single string\n",
    "    processed_text = \" \".join(words)\n",
    "\n",
    "    return processed_text\n"
   ]
  },
  {
   "cell_type": "markdown",
   "id": "783f2db1",
   "metadata": {},
   "source": [
    "Preprocess the text data."
   ]
  },
  {
   "cell_type": "code",
   "execution_count": 21,
   "id": "64670cd9",
   "metadata": {},
   "outputs": [],
   "source": [
    "data.text = data.text.apply(preprocessText)"
   ]
  },
  {
   "cell_type": "markdown",
   "id": "7e76cde0",
   "metadata": {},
   "source": [
    "Divide the data into input(X) and target(y)."
   ]
  },
  {
   "cell_type": "code",
   "execution_count": 22,
   "id": "b951d634",
   "metadata": {},
   "outputs": [],
   "source": [
    "X = data.text\n",
    "y = data.target"
   ]
  },
  {
   "cell_type": "markdown",
   "id": "5b4b4317",
   "metadata": {},
   "source": [
    "Divide the data into Train and Test."
   ]
  },
  {
   "cell_type": "code",
   "execution_count": 23,
   "id": "f9276d36",
   "metadata": {},
   "outputs": [],
   "source": [
    "X_train, X_test, y_train, y_test = train_test_split(X, y, test_size = 0.2, random_state = 42)\n",
    "# 20% data as test"
   ]
  },
  {
   "cell_type": "markdown",
   "id": "5df3d27e",
   "metadata": {},
   "source": [
    "Vectorize the text data."
   ]
  },
  {
   "cell_type": "code",
   "execution_count": 24,
   "id": "e16d71e9",
   "metadata": {},
   "outputs": [],
   "source": [
    "vectorizer = TfidfVectorizer()\n",
    "X_train_vectors = vectorizer.fit_transform(X_train)\n",
    "X_test_vectors = vectorizer.transform(X_test)"
   ]
  },
  {
   "cell_type": "markdown",
   "id": "7cb72a8e",
   "metadata": {},
   "source": [
    "Note that we fit and transform the X_train while only transform the X_test data."
   ]
  },
  {
   "cell_type": "markdown",
   "id": "f336f817",
   "metadata": {},
   "source": [
    "# 3. Modeling"
   ]
  },
  {
   "cell_type": "markdown",
   "id": "1a1d7505",
   "metadata": {},
   "source": [
    "Creating Multinomial Naive Bayes model as this algorithm is suitable for text classification problem in Natural Language Processing."
   ]
  },
  {
   "cell_type": "code",
   "execution_count": 25,
   "id": "91ea151b",
   "metadata": {},
   "outputs": [
    {
     "data": {
      "text/plain": [
       "MultinomialNB()"
      ]
     },
     "execution_count": 25,
     "metadata": {},
     "output_type": "execute_result"
    }
   ],
   "source": [
    "model = MultinomialNB()\n",
    "model.fit(X_train_vectors, y_train)"
   ]
  },
  {
   "cell_type": "code",
   "execution_count": 26,
   "id": "f7df2c54",
   "metadata": {
    "scrolled": true
   },
   "outputs": [
    {
     "data": {
      "text/plain": [
       "0.9333888888888889"
      ]
     },
     "execution_count": 26,
     "metadata": {},
     "output_type": "execute_result"
    }
   ],
   "source": [
    "model.score(X_test_vectors, y_test)"
   ]
  },
  {
   "cell_type": "markdown",
   "id": "e2518dae",
   "metadata": {},
   "source": [
    "The model score is 93.33% which is a good score."
   ]
  },
  {
   "cell_type": "code",
   "execution_count": 27,
   "id": "85219f3b",
   "metadata": {
    "scrolled": false
   },
   "outputs": [
    {
     "data": {
      "text/plain": [
       "<Figure size 600x600 with 0 Axes>"
      ]
     },
     "metadata": {},
     "output_type": "display_data"
    },
    {
     "data": {
      "image/png": "[encoded data removed]",
      "text/plain": [
       "<Figure size 640x480 with 2 Axes>"
      ]
     },
     "metadata": {},
     "output_type": "display_data"
    }
   ],
   "source": [
    "# Confusion Matrix\n",
    "\n",
    "plt.figure(figsize = (6,6))\n",
    "\n",
    "ConfusionMatrixDisplay.from_estimator(model, X_test_vectors, y_test)\n",
    "plt.title('Confusion Matrix')\n",
    "\n",
    "plt.show()"
   ]
  },
  {
   "cell_type": "markdown",
   "id": "b7446fc9",
   "metadata": {},
   "source": [
    "The model is basically misclassifying between science and business.<br>\n",
    "Note: <br>\n",
    "Sports: 0, \n",
    "Science: 1, \n",
    "Business: 2"
   ]
  },
  {
   "cell_type": "markdown",
   "id": "15b2a24f",
   "metadata": {},
   "source": [
    "# 4. Model Evaluation"
   ]
  },
  {
   "cell_type": "markdown",
   "id": "de636eb8",
   "metadata": {},
   "source": [
    "We now evaluate the model using <i>test.csv</i> file.<br>\n",
    "Note that the <i>test.csv</i> file is not used until now."
   ]
  },
  {
   "cell_type": "markdown",
   "id": "b383111b",
   "metadata": {},
   "source": [
    "Repeat all the steps we have done above."
   ]
  },
  {
   "cell_type": "code",
   "execution_count": 28,
   "id": "08bea3b7",
   "metadata": {
    "scrolled": true
   },
   "outputs": [
    {
     "data": {
      "text/plain": [
       "0.9250877192982456"
      ]
     },
     "execution_count": 28,
     "metadata": {},
     "output_type": "execute_result"
    }
   ],
   "source": [
    "# for testing\n",
    "test_data = pd.read_csv(\"AG_News_Archive/test.csv\")\n",
    "# remove \"World\" data\n",
    "test_data = test_data[test_data['Class Index'] != 1]\n",
    "# encode the \"Class Index\"\n",
    "test_data['Class Index'] = test_data['Class Index'].apply(encode)\n",
    "# combine 'Title' and 'Description'\n",
    "test_data['text'] = test_data['Title']+ ' ' + test_data['Description']\n",
    "# create a new column 'target' from 'Class Index'\n",
    "test_data['target'] = test_data['Class Index']\n",
    "# remove the columns 'Class Index', 'Title', and 'Description'\n",
    "test_data = test_data.drop(columns = ['Class Index', 'Title', 'Description'])\n",
    "# preprocess the text data\n",
    "test_data.text = test_data.text.apply(preprocessText)\n",
    "# Divide the data into input(X) and target(y).\n",
    "test_data_X = test_data.text\n",
    "test_data_y = test_data.target\n",
    "# vectorize using above used vectorizer\n",
    "test_data_X_vectors = vectorizer.transform(test_data_X)\n",
    "# calculate model score on unseen data\n",
    "model.score(test_data_X_vectors, test_data_y)"
   ]
  },
  {
   "cell_type": "markdown",
   "id": "89383512",
   "metadata": {},
   "source": [
    "The score on unseen data is 92.50% which is slightly less than the score on train data. But this score is very good."
   ]
  },
  {
   "cell_type": "code",
   "execution_count": 29,
   "id": "adaebb92",
   "metadata": {
    "scrolled": false
   },
   "outputs": [
    {
     "data": {
      "text/plain": [
       "<Figure size 600x600 with 0 Axes>"
      ]
     },
     "metadata": {},
     "output_type": "display_data"
    },
    {
     "data": {
      "image/png": "[encoded data removed]",
      "text/plain": [
       "<Figure size 640x480 with 2 Axes>"
      ]
     },
     "metadata": {},
     "output_type": "display_data"
    }
   ],
   "source": [
    "# Confusion Matrix\n",
    "\n",
    "plt.figure(figsize = (6,6))\n",
    "\n",
    "ConfusionMatrixDisplay.from_estimator(model, test_data_X_vectors, test_data_y)\n",
    "plt.title('Confusion Matrix')\n",
    "\n",
    "plt.show()"
   ]
  },
  {
   "cell_type": "markdown",
   "id": "532011fb",
   "metadata": {},
   "source": [
    "The model is basically misclassifying between science and business.<br>\n",
    "Note: <br>\n",
    "Sports: 0, \n",
    "Science: 1, \n",
    "Business: 2"
   ]
  },
  {
   "cell_type": "markdown",
   "id": "97bdcf01",
   "metadata": {},
   "source": [
    "# 5. Implementation"
   ]
  },
  {
   "cell_type": "markdown",
   "id": "e12783e2",
   "metadata": {},
   "source": [
    "Let's create a function to process the input and return the output."
   ]
  },
  {
   "cell_type": "code",
   "execution_count": 30,
   "id": "37668347",
   "metadata": {},
   "outputs": [],
   "source": [
    "def result(query):\n",
    "    '''\n",
    "    This function take in the query as the input and returns the predicted label.\n",
    "    Returns Sports, Science or Business text.\n",
    "    '''\n",
    "    processed_query = preprocessText(query)\n",
    "    \n",
    "    if len(processed_query) != 0:\n",
    "        processed_query = [processed_query]\n",
    "        processed_query_vector = vectorizer.transform(processed_query)\n",
    "        result = model.predict(processed_query_vector)\n",
    "        if result == 0:\n",
    "            return 'Sports'\n",
    "        elif result == 1:\n",
    "            return 'Science'\n",
    "        else:\n",
    "            return 'Business'\n",
    "    else:\n",
    "        return 'Invalid search'"
   ]
  },
  {
   "cell_type": "markdown",
   "id": "f16994a9",
   "metadata": {},
   "source": [
    "# 6. Test"
   ]
  },
  {
   "cell_type": "code",
   "execution_count": 31,
   "id": "1e3460ed",
   "metadata": {
    "scrolled": true
   },
   "outputs": [
    {
     "data": {
      "text/plain": [
       "'Invalid search'"
      ]
     },
     "execution_count": 31,
     "metadata": {},
     "output_type": "execute_result"
    }
   ],
   "source": [
    "# when the input is empty\n",
    "result('')"
   ]
  },
  {
   "cell_type": "code",
   "execution_count": 32,
   "id": "7af684fc",
   "metadata": {},
   "outputs": [
    {
     "data": {
      "text/plain": [
       "'Invalid search'"
      ]
     },
     "execution_count": 32,
     "metadata": {},
     "output_type": "execute_result"
    }
   ],
   "source": [
    "# when the input is just number\n",
    "result('1234567890')"
   ]
  },
  {
   "cell_type": "code",
   "execution_count": 33,
   "id": "6acc8670",
   "metadata": {},
   "outputs": [
    {
     "data": {
      "text/plain": [
       "'Invalid search'"
      ]
     },
     "execution_count": 33,
     "metadata": {},
     "output_type": "execute_result"
    }
   ],
   "source": [
    "# stop words\n",
    "result('they are')"
   ]
  },
  {
   "cell_type": "code",
   "execution_count": 34,
   "id": "ca98dd87",
   "metadata": {},
   "outputs": [
    {
     "data": {
      "text/plain": [
       "'Sports'"
      ]
     },
     "execution_count": 34,
     "metadata": {},
     "output_type": "execute_result"
    }
   ],
   "source": [
    "# special characters\n",
    "result(\"{everyone in england likes WIMBLEDON!!!}\")"
   ]
  },
  {
   "cell_type": "code",
   "execution_count": 35,
   "id": "5466c609",
   "metadata": {},
   "outputs": [
    {
     "data": {
      "text/plain": [
       "'Sports'"
      ]
     },
     "execution_count": 35,
     "metadata": {},
     "output_type": "execute_result"
    }
   ],
   "source": [
    "result('i love football and basketball')"
   ]
  },
  {
   "cell_type": "code",
   "execution_count": 36,
   "id": "61579eae",
   "metadata": {},
   "outputs": [
    {
     "data": {
      "text/plain": [
       "'Science'"
      ]
     },
     "execution_count": 36,
     "metadata": {},
     "output_type": "execute_result"
    }
   ],
   "source": [
    "result(\"why can't humans dream of using a cell phone\")"
   ]
  },
  {
   "cell_type": "code",
   "execution_count": 37,
   "id": "5355bf07",
   "metadata": {},
   "outputs": [
    {
     "data": {
      "text/plain": [
       "'Business'"
      ]
     },
     "execution_count": 37,
     "metadata": {},
     "output_type": "execute_result"
    }
   ],
   "source": [
    "result('how much money is too much money?')"
   ]
  },
  {
   "cell_type": "code",
   "execution_count": 38,
   "id": "cac6592a",
   "metadata": {},
   "outputs": [
    {
     "data": {
      "text/plain": [
       "'Business'"
      ]
     },
     "execution_count": 38,
     "metadata": {},
     "output_type": "execute_result"
    }
   ],
   "source": [
    "# https://www.bbc.co.uk/news/business-66309002#\n",
    "result(\"\"\"China has named Pan Gongsheng as the new governor of its central bank, the People's Bank of China (PBOC).\n",
    "The 60-year-old's appointment comes as the country continues to struggle with major economic challenges in the wake of the coronavirus pandemic.\n",
    "Among the problems facing the world's second largest economy are slowing growth, a housing market in crisis and youth unemployment at a record high.\n",
    "Mr Pan succeeds Yi Gang, who held the top post at the PBOC since 2018.\"\"\")"
   ]
  },
  {
   "cell_type": "code",
   "execution_count": 39,
   "id": "f5923ae2",
   "metadata": {},
   "outputs": [
    {
     "data": {
      "text/plain": [
       "'Science'"
      ]
     },
     "execution_count": 39,
     "metadata": {},
     "output_type": "execute_result"
    }
   ],
   "source": [
    "# https://www.bbc.co.uk/news/science-environment-66289489#\n",
    "result(\"\"\"The heatwaves battering Europe and the US in July would have been \"virtually impossible\" without human-induced climate change, a scientific study says.\n",
    "Global warming from burning fossil fuels also made the heatwave affecting parts of China 50 times more likely.\n",
    "Climate change meant the heatwave in southern Europe was 2.5C hotter, the study finds.\n",
    "Almost all societies remain unprepared for deadly extreme heat, experts warn.\n",
    "The study's authors say its findings highlight the importance of the world adapting to higher temperatures because they are no longer \"rare\".\n",
    "\"Heat is among the deadliest types of disaster,\" says Julie Arrighi from the Red Cross Red Crescent Climate Centre, and also one of the authors.\n",
    "Countries must build heat-resistant homes, create \"cool centres\" for people to find shelter, and find ways to cool cities including planting more trees, she says.\n",
    "In July, temperature records were broken in parts of China, the southern US and Spain. Millions of people spent days under red alerts for extreme heat.\n",
    "Experts say extreme heat can be a very serious threat to life, especially among the elderly. According to one study, more than 61,000 people were estimated to have died from heat-related causes during last year's heatwaves in Europe.\n",
    "\"This study confirms what we knew before. It shows again just how much climate change plays a role in what we are currently experiencing,\" said Friederike Otto from Imperial College London.\n",
    "Climate scientists say decades of humans pumping greenhouse gases into the atmosphere are causing global temperatures to rise.\n",
    "But not all extreme weather events can immediately be linked directly to climate change because natural weather patterns can also play a part.\n",
    "Scientists in the UK, US and Netherlands in the World Weather Attribution group studied the recent heatwaves to identify the fingerprint of climate change.\"\"\")"
   ]
  },
  {
   "cell_type": "code",
   "execution_count": 40,
   "id": "b76419e0",
   "metadata": {},
   "outputs": [
    {
     "data": {
      "text/plain": [
       "'Business'"
      ]
     },
     "execution_count": 40,
     "metadata": {},
     "output_type": "execute_result"
    }
   ],
   "source": [
    "# this is a sport news\n",
    "# https://www.bbc.co.uk/news/world-us-canada-66274633\n",
    "result(\"\"\"Tottenham Hotspur owner Joe Lewis has been charged with \"orchestrating a brazen insider trader scheme\", US attorney Damian Williams has said.\n",
    "Mr Williams used a video announcement to accuse the British billionaire of using inside information to \"shower gifts on his friends and lovers\".\n",
    "Mr Lewis \"has been indicted and will face justice\" in the Southern District of New York (SDNY), Mr Williams said.\n",
    "BBC News has approached Tottenham Hotspur and Mr Lewis for comment.\n",
    "In the video statement, posted on Twitter, Mr Williams set out a series of allegations against Mr Lewis. A formal written statement, known as an indictment, has yet to be released.\n",
    "\"We allege that, for years, Joe Lewis abused his access to corporate board rooms and repeatedly provided inside information to his romantic partners, his personal assistants, his private pilots, and his friends,\" Mr Williams said in the video.\n",
    "Mr Williams, the chief federal law enforcement officer for the SDNY, alleged that Mr Lewis's acquaintances used that information to make millions of dollars in the stock market.\n",
    "\"Thanks to [Mr] Lewis, those bets were a sure thing,\" he claimed.\n",
    "Mr Lewis owns hundreds of assets, including Premier League London club Spurs and a stake in UK pub chain Mitchells & Butlers. Forbes magazine has recently estimated his fortune at £4.73bn ($6.1bn).\"\"\")"
   ]
  },
  {
   "cell_type": "code",
   "execution_count": 41,
   "id": "fb9b2d89",
   "metadata": {},
   "outputs": [
    {
     "data": {
      "text/plain": [
       "'Sports'"
      ]
     },
     "execution_count": 41,
     "metadata": {},
     "output_type": "execute_result"
    }
   ],
   "source": [
    "# BBC Sports news\n",
    "# https://www.bbc.co.uk/programmes/articles/4ClSCzwVZZZz6QGxSRdfFtJ/from-wimbledon-to-wall-street\n",
    "result(\"\"\"It's a Friday morning in New York and while many of his friends are competing across the other side of the world at the Australian Open, Mario Ancic is finding his feet in another arena - Wall Street.\n",
    "\n",
    "The former World number seven, who so famously became a national celebrity at the age of 18 after beating Roger Federer on his Wimbledon debut, was once described by six-time Grand Slam Champion Boris Becker as \"The future of tennis- his name is Mario Ancic.\"\n",
    "\n",
    "But now five years after injury and illness forced his retirement he's swapped his tennis whites for a suit as an investment banker at Credit Suisse. As Ancic explains \"my life was changed upside down\".\"\"\")"
   ]
  },
  {
   "cell_type": "markdown",
   "id": "c37e65c4",
   "metadata": {},
   "source": [
    "# 7. User Interface"
   ]
  },
  {
   "cell_type": "markdown",
   "id": "c3e0c833",
   "metadata": {},
   "source": [
    "I have implemented the User Interface using tkinter. The codes are easy to understand and write."
   ]
  },
  {
   "cell_type": "markdown",
   "id": "4e9dd354",
   "metadata": {},
   "source": [
    "When you run the below code, a separate window opens up."
   ]
  },
  {
   "cell_type": "code",
   "execution_count": 42,
   "id": "bf083745",
   "metadata": {},
   "outputs": [],
   "source": [
    "from tkinter import *\n",
    "from tkinter import ttk\n",
    "\n",
    "def search(*args):\n",
    "    try:\n",
    "        value = (query.get())\n",
    "        output.set(result(value))\n",
    "    except ValueError:\n",
    "        pass\n",
    "\n",
    "root = Tk()\n",
    "root.title(\"Text Classifier\")\n",
    "\n",
    "mainframe = ttk.Frame(root, padding=\"3 3 12 12\")\n",
    "mainframe.grid(column=0, row=0, sticky=(N, W, E, S))\n",
    "root.columnconfigure(0, weight=1)\n",
    "root.rowconfigure(0, weight=1)\n",
    "\n",
    "ttk.Label(mainframe, text=\"Enter text\").grid(column=0, row=0, sticky=E)\n",
    "\n",
    "query = StringVar()\n",
    "query_entry = ttk.Entry(mainframe, width=50, textvariable=query)\n",
    "query_entry.grid(column=1, row=0, sticky=(W, E))\n",
    "\n",
    "ttk.Button(mainframe, text=\"Go\", command=search).grid(column=2, row=0, sticky=W)\n",
    "\n",
    "output = StringVar()\n",
    "ttk.Label(mainframe, textvariable=output).grid(column=0, row=1, columnspan=3, sticky=N)\n",
    "\n",
    "mainframe.columnconfigure(0, weight=1)\n",
    "mainframe.columnconfigure(1, weight=3)\n",
    "mainframe.columnconfigure(2, weight=1)\n",
    "mainframe.rowconfigure(0, weight=1)\n",
    "mainframe.rowconfigure(1, weight=3)\n",
    "\n",
    "for child in mainframe.winfo_children(): \n",
    "    child.grid_configure(padx=5, pady=5)\n",
    "\n",
    "query_entry.focus()\n",
    "root.bind(\"<Return>\", search)\n",
    "\n",
    "root.mainloop()"
   ]
  },
  {
   "cell_type": "markdown",
   "id": "bb29f52e",
   "metadata": {},
   "source": [
    "<i>Thank you for reading my notebook.\n",
    "<br>\n",
    "<br>Avishek K C<br>\n",
    "2023</i>"
   ]
  }
 ],
 "metadata": {
  "kernelspec": {
   "display_name": "Python 3 (ipykernel)",
   "language": "python",
   "name": "python3"
  },
  "language_info": {
   "codemirror_mode": {
    "name": "ipython",
    "version": 3
   },
   "file_extension": ".py",
   "mimetype": "text/x-python",
   "name": "python",
   "nbconvert_exporter": "python",
   "pygments_lexer": "ipython3",
   "version": "3.9.13"
  }
 },
 "nbformat": 4,
 "nbformat_minor": 5
}
